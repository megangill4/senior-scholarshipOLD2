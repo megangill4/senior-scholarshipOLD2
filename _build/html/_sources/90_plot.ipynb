{
 "cells": [
  {
   "cell_type": "markdown",
   "id": "8a86b87c",
   "metadata": {},
   "source": [
    "## 90% Plot"
   ]
  },
  {
   "cell_type": "markdown",
   "id": "96362ead",
   "metadata": {},
   "source": [
    "The second method I used to display the atomic orbitals was a 90% plot. The output I generated represents the region of 90% probability of finding an electron or pair of electrons. In order to create these plots, having determined my probability distribution function, I created a 50x50x50 3d grid of coordinates, and found the probability at each, and appended the coordinates and their corresponding probabilities to a list.\n",
    "\n",
    "```{figure} images/grid.png\n",
    "---\n",
    "scale: 100%\n",
    "align: left\n",
    "---\n",
    "3D grid\n",
    "```\n",
    "\n",
    "The next step was to create a while loop. The loop works through the list of coordinates and probabilities, adding the probabilities together and appending the coordinates to corresponding lists. The loop stops running once the total probability reaches 0.9, or 90%. The regions with displayed points (from the lists of coordinates) therefore represent the position of the electron or pair of electrons 90% of the time. The colour of the points corresponds to the phase of the orbital in that region (red is positive, blue is negative). Below is my code for generating a 90% plot of atomic orbitals, as well as my generated plots:"
   ]
  },
  {
   "cell_type": "code",
   "execution_count": null,
   "id": "a68508d8",
   "metadata": {},
   "outputs": [],
   "source": []
  }
 ],
 "metadata": {
  "kernelspec": {
   "display_name": "Python 3 (ipykernel)",
   "language": "python",
   "name": "python3"
  },
  "language_info": {
   "codemirror_mode": {
    "name": "ipython",
    "version": 3
   },
   "file_extension": ".py",
   "mimetype": "text/x-python",
   "name": "python",
   "nbconvert_exporter": "python",
   "pygments_lexer": "ipython3",
   "version": "3.9.7"
  }
 },
 "nbformat": 4,
 "nbformat_minor": 5
}
