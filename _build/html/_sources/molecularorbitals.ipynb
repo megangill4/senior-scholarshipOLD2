{
 "cells": [
  {
   "attachments": {},
   "cell_type": "markdown",
   "id": "1204a867",
   "metadata": {},
   "source": [
    "# Molecular Orbitals\n",
    "\n",
    "Now that we have displayed atomic orbitals, we can start to consider molecular orbitals. Much like atomic orbitals, molecular orbitals are described by wavefunctions, and are constructed by finding the linear combination of atomic orbitals from different atoms[<sup>1</sup>](#fn1). Similarly to atomic orbitals, we can find the probability density of an electron at each point in the molecular orbital by taking the square modulus of the wavefunction. Bonding orbitals are lower in energy than the atomic orbitals that form them, while antibonding orbitals are higher in energy. Filling an antibonding orbital effectively cancels out the bond formed by filling the bonding orbital. \n",
    "\n",
    "Conjugated compounds contain both sigma bonds (single bonds formed from the head on overlap of any orbital) and π bonds (double bonds formed from the side on overlap of p orbitals). For this project, I have chosen to focus on π bonds as it is π bonding that gives conjugated compounds their interesting properties. The simplest organic molecule containing a π bond is ethene:\n",
    "\n",
    "```{image} ../images/Picture1.png\n",
    ":alt: Ethene\n",
    ":width: 200px\n",
    ":align: center\n",
    "```"
   ]
  },
  {
   "attachments": {},
   "cell_type": "markdown",
   "id": "c15eeb98",
   "metadata": {},
   "source": [
    "The π bond in ethene is constructed from the constructive side-on overlap of carbon 2p orbitals[<sup>2</sup>](#fn2)."
   ]
  },
  {
   "attachments": {},
   "cell_type": "markdown",
   "id": "d338a898",
   "metadata": {},
   "source": [
    "```{image} ../images/pibonding.jpg\n",
    ":alt: Pi bonding\n",
    ":width: 600px\n",
    ":align: center\n",
    "```"
   ]
  },
  {
   "attachments": {},
   "cell_type": "markdown",
   "id": "be17d306",
   "metadata": {},
   "source": [
    "An antibonding orbital is formed from the destructive overlap of orbitals.\n",
    "\n",
    "```{image} ../images/piantibonding.jpg\n",
    ":alt: Pi antibonding\n",
    ":width: 600px\n",
    ":align: center\n",
    "```"
   ]
  },
  {
   "attachments": {},
   "cell_type": "markdown",
   "id": "0320bc2c",
   "metadata": {},
   "source": [
    "As each 2p orbital contributes one electron to the π system, there are two electrons in the π system, only the bonding MO is filled, and a π bond is formed.\n",
    "\n",
    "```{image} ../images/benzene.jpg\n",
    ":alt: Benzene\n",
    ":width: 150px\n",
    ":align: center\n",
    "```\n",
    "\n",
    "In benzene (above), six 2p orbitals contribute to the π system[<sup>3</sup>](#fn3). The number of orbitals is conserved, and we are left with six π molecular orbitals. Rather than a single bonding and a single antibonding π molecular orbital, we have six different molecular orbitals which each have different degrees of bonding and antibonding character, formed from different combinations of overlap between the carbon 2p orbitals, as demonstrated below. The three lowest energy molecular orbitals are occupied.\n"
   ]
  },
  {
   "attachments": {},
   "cell_type": "markdown",
   "id": "f5834843",
   "metadata": {},
   "source": [
    "```{image} ../images/benzenemo.png\n",
    ":alt: Benzene MOs\n",
    ":width: 500px\n",
    ":align: center\n",
    "```\n",
    "\n",
    "Using these diagrams, we can easily produce a qualitative picture of the π bonding in benzene. In order to produce a more quantative and accurate picture, we can employ Hückel Molecular Orbital theory."
   ]
  },
  {
   "attachments": {},
   "cell_type": "markdown",
   "id": "9ff6a1fd",
   "metadata": {},
   "source": [
    "<span id=\"fn1\"> 1: Atkins, P.W. and Julio De Paula (2010). Physical chemistry. 9th ed. New York: W.H. Freeman And Co. </span>\n",
    "\n",
    "<span id=\"fn2\"> 2: Atkins, P.W. and Julio De Paula (2010) </span>\n",
    "\n",
    "<span id=\"fn3\"> 3: Atkins, P.W. and Julio De Paula (2010) </span>"
   ]
  },
  {
   "cell_type": "code",
   "execution_count": null,
   "id": "b25cb0ee",
   "metadata": {},
   "outputs": [],
   "source": []
  }
 ],
 "metadata": {
  "kernelspec": {
   "display_name": "Python 3 (ipykernel)",
   "language": "python",
   "name": "python3"
  },
  "language_info": {
   "codemirror_mode": {
    "name": "ipython",
    "version": 3
   },
   "file_extension": ".py",
   "mimetype": "text/x-python",
   "name": "python",
   "nbconvert_exporter": "python",
   "pygments_lexer": "ipython3",
   "version": "3.9.7"
  }
 },
 "nbformat": 4,
 "nbformat_minor": 5
}
